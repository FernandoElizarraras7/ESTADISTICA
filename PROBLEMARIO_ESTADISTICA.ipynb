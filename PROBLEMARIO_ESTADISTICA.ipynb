{
  "nbformat": 4,
  "nbformat_minor": 0,
  "metadata": {
    "colab": {
      "provenance": [],
      "authorship_tag": "ABX9TyMT0iy/xmqposJ5jLx/kgwr",
      "include_colab_link": true
    },
    "kernelspec": {
      "name": "python3",
      "display_name": "Python 3"
    },
    "language_info": {
      "name": "python"
    }
  },
  "cells": [
    {
      "cell_type": "markdown",
      "metadata": {
        "id": "view-in-github",
        "colab_type": "text"
      },
      "source": [
        "<a href=\"https://colab.research.google.com/github/FernandoElizarraras7/ESTADISTICA/blob/main/PROBLEMARIO_ESTADISTICA.ipynb\" target=\"_parent\"><img src=\"https://colab.research.google.com/assets/colab-badge.svg\" alt=\"Open In Colab\"/></a>"
      ]
    },
    {
      "cell_type": "markdown",
      "source": [
        "# PROBLEMARIO ESTADISTICA\n",
        "### 10.1 Defina $α$ y $β$ para una prueba estadística de hipótesis.\n",
        "En una prueba estadística de hipótesis, $α$ y $β$ son dos probabilidades que describen los posibles errores que pueden ocurrir al tomar una decisión basada en la prueba.\n",
        "1.   **Nivel de significancia ($α$):**\n",
        "*   $α$ es la probabilidad de cometer un error de Tipo I, que ocurre cuando se rechaza la hipótesis nula ($H_0$) siendo ésta verdadera.\n",
        "*   Es el umbral que se fija antes de realizar la prueba para decidir cuándo se rechaza $H_0$\n",
        "* Un valor comúnmente usado para α es 0.05, lo que significa que hay un 5% de probabilidad de rechaza $H_0$ cuando en realidad es cierta.\n",
        "2.   Potencia de la prueba $(1-β)$ y error de Tipo II ($β$):\n",
        "*   β es la probabilidad de cometer un error de Tipo II, que ocurre cuando no se rechaza la hipótesis nula ($H_0$) siendo ésta falsa.\n",
        "*   La potencia de la prueba es 1 - β y representa la probabilidad de rechazar $H_0$ cuando $H_0$ es falsa (es decir, la capacidad de la prueba para detectar un efecto si es que existe uno).\n",
        "* Un valor deseable para $β$ es generalmente bajo (como 0.20), lo que implica una potencia de la prueba de 0.80 o 80%.\n",
        "\n",
        "En resumen:\n",
        "*   $α$ es la probabilidad de rechazar $H_0$ cuando es verdadera (error de Tipo I).\n",
        "*   $β$ es la probabilidad de no rechazar $H_0$ cuando es falsa (error de Tipo II).\n",
        "* La potencia de la prueba es $1-β$, que es la probabilidad de rechazar $H_0$ cuando es falsa.\n",
        "\n",
        "### 10.2 Un investigador ha preparado un nivel de dosis de droga que según él, inducirá el sueño en 80% de las personas que sufren de insomnio. Después de examinar la dosis, pensamos que lo dicho por él respecto a la efectividad de la dosis es exagerado. En un intento por refutar su dicho, administramos la dosis prescrita a 20 personas que padecen de insomnio y observamos $Y$, el número de individuos a quienes la dosis induce el sueño. Deseamos probar la hipótesis $H_0: p=.8$ contra la alternativa, $H_a: p<.8$. Suponga que se usa la región de rechazo ${y ≤ 12}$.\n",
        "**a) ¿Qué es un error tipo I?**\n",
        "\n",
        "Un error tipo I ocurre cuando rechazamos la hipótesis nula $H_0$ siendo ésta verdadera. En este contexto, un error tipo I sería concluir que la dosis de droga induce el sueño en menos del 80% de las personas cuando, en realidad, sí induce el sueño en el 80% de las personas.\n",
        "\n",
        "**b) Encuentre $α$**\n",
        "\n",
        "Dado que queremos encontrar $P(Y≤12∣p=0.8)$ para una distribución binomial con parámetros $n=20$ y $p=0.8$, podemos escribir:\n",
        "$$P(Y≤12∣p=0.8)=\\sum_{k=0}^{12}\\binom{20}{k}(0.8)^k(0.2)^{20-k}$$\n",
        "*   $\\binom{20}{k}$ es el coeficiente binomial que se calcula como:\n",
        "$$\\binom{20}{k}=\\frac{20!}{k!(20-k)!}$$\n",
        "\n",
        "Regresando a $α$:\n",
        "$$α=\\sum_{k=0}^{12}\\binom{20}{k}(0.8)^k(0.2)^{20-k}$$\n",
        "La probabilidad acumulada $P(Y≤12∣p=0.8)$ es:\n",
        "$$α≈0.0321$$\n",
        "\n",
        "Para rectificar, se implementará un código en Python."
      ],
      "metadata": {
        "id": "_h5pQKeYVaBR"
      }
    },
    {
      "cell_type": "code",
      "source": [
        "import math\n",
        "\n",
        "# Definir los parámetros\n",
        "n = 20\n",
        "p = 0.8\n",
        "\n",
        "# Función para calcular el coeficiente binomial\n",
        "def binom_coef(n, k):\n",
        "    return math.comb(n, k)\n",
        "\n",
        "# Calcular la probabilidad acumulada P(Y <= 12)\n",
        "alpha = sum(binom_coef(n, k) * (p**k) * ((1-p)**(n-k)) for k in range(13))\n",
        "\n",
        "print(f\"Nivel de significancia (α): {alpha:.4f} ó {alpha*100:.2f}%\")"
      ],
      "metadata": {
        "colab": {
          "base_uri": "https://localhost:8080/"
        },
        "id": "aapQQZktiI51",
        "outputId": "caaecc8e-9673-442b-d34b-27bb1d769131"
      },
      "execution_count": null,
      "outputs": [
        {
          "output_type": "stream",
          "name": "stdout",
          "text": [
            "Nivel de significancia (α): 0.0321 ó 3.21%\n"
          ]
        }
      ]
    },
    {
      "cell_type": "markdown",
      "source": [
        "**c) ¿Qué es una error tipo II?**\n",
        "\n",
        "Un error tipo II ocurre cuando no rechazamos la hipótesis nula $H_0$ siendo ésta falsa. En este contexto, un error tipo II sería concluir que la dosis de droga induce el sueño en el 80% de las personas cuando, en realidad, induce el sueño en menos del 80% de las personas.\n",
        "\n",
        "**d) Encuentre $β$ cuando $p = 0.6$**\n",
        "\n",
        "Para encontrar $β$ cuando $p=0.6$, calculamos la probabilidad de no rechazar $H_0$ cuando la verdadera proporción $p$ es 0.6:\n",
        "$$β=P(Y>12∣p=0.6)$$\n",
        "$$β=1−P(Y≤12∣p=0.6)$$\n",
        "$$β=P(Y>12∣p=0.6)=1−P(Y≤12∣p=0.6)$$\n",
        "$$P(Y≤12∣p=0.6)=\\sum_{k=0}^{12}\\binom{20}{k}(0.6)^k(0.4)^{20-k}$$\n",
        "Error de Tipo II $(β)$: $β=0.416$\n",
        "\n",
        "Para rectificar, se implementará un código en Python."
      ],
      "metadata": {
        "id": "niSVgm1aiXi5"
      }
    },
    {
      "cell_type": "code",
      "source": [
        "import math\n",
        "\n",
        "# Parámetros\n",
        "n = 20\n",
        "p1 = 0.6\n",
        "\n",
        "# Función para calcular el coeficiente binomial\n",
        "def binom_coef(n, k):\n",
        "    return math.comb(n, k)\n",
        "\n",
        "# Calcular la probabilidad acumulada P(Y <= 12 | p = 0.6)\n",
        "beta_06_cdf = sum(binom_coef(n, k) * (p1**k) * ((1-p1)**(n-k)) for k in range(13))\n",
        "beta_06 = 1 - beta_06_cdf\n",
        "\n",
        "print(f\"Error de Tipo II (β): {beta_06:.3f} ó {beta_06*100:.2f}%\")"
      ],
      "metadata": {
        "colab": {
          "base_uri": "https://localhost:8080/"
        },
        "id": "tx0de0tTfB6k",
        "outputId": "bb2853c6-b14a-4e89-d30e-51a971c899ac"
      },
      "execution_count": null,
      "outputs": [
        {
          "output_type": "stream",
          "name": "stdout",
          "text": [
            "Error de Tipo II (β): 0.416 ó 41.59%\n"
          ]
        }
      ]
    },
    {
      "cell_type": "markdown",
      "source": [
        "**e) Encuentre $β$ cuando $p = 0.4$**\n",
        "\n",
        "Para encontrar $β$ cuando $p=0.4$, calculamos la probabilidad de no rechazar $H_0$ cuando la verdadera proporción $p$ es 0.4:\n",
        "$$β=P(Y>12∣p=0.4)$$\n",
        "$$β=1−P(Y≤12∣p=0.4)$$\n",
        "$$β=P(Y>12∣p=0.4)=1−P(Y≤12∣p=0.4)$$\n",
        "$$P(Y≤12∣p=0.4)=\\sum_{k=0}^{12}\\binom{20}{k}(0.4)^k(0.6)^{20-k}$$\n",
        "Error de Tipo II $(β)$: $β=0.021$\n",
        "\n",
        "Para rectificar, se implementará un código en Python."
      ],
      "metadata": {
        "id": "7sykGYW7kk68"
      }
    },
    {
      "cell_type": "code",
      "source": [
        "import math\n",
        "\n",
        "# Parámetros\n",
        "n = 20\n",
        "p2 = 0.4\n",
        "\n",
        "# Función para calcular el coeficiente binomial\n",
        "def binom_coef(n, k):\n",
        "    return math.comb(n, k)\n",
        "\n",
        "# Calcular la probabilidad acumulada P(Y <= 12 | p = 0.4)\n",
        "beta_04_cdf = sum(binom_coef(n, k) * (p2**k) * ((1-p2)**(n-k)) for k in range(13))\n",
        "beta_04 = 1 - beta_04_cdf\n",
        "\n",
        "print(f\"Error de Tipo II (β): {beta_04:.3f} ó {beta_04*100:.2f}%\")"
      ],
      "metadata": {
        "colab": {
          "base_uri": "https://localhost:8080/"
        },
        "id": "TmzdOp-Jl2qo",
        "outputId": "afd89f9f-08e7-4793-cc4a-cbc3f4da8ae0"
      },
      "execution_count": null,
      "outputs": [
        {
          "output_type": "stream",
          "name": "stdout",
          "text": [
            "Error de Tipo II (β): 0.021 ó 2.10%\n"
          ]
        }
      ]
    },
    {
      "cell_type": "markdown",
      "source": [
        "### 10.3 Consulte el ejercicio 10.2\n",
        "**a) Defina la región de rechazo de la forma $(y≤c)$ de modo que $α≈0.01$.**\n",
        "\n",
        "Se busca el valor de $c$ tal que:\n",
        "$$P(Y≤c∣p=0.8)≈0.01$$\n",
        "Para $n=20$ y $p=0.8$, usamos la distribución binomial. Calculamos $P(Y≤c∣p=0.8)$ para diferentes valores de $c$ hasta encontrar el que más se aproxime a 0.01.\n",
        "\n",
        "Para realizar esto, se va a usar un código en Python, así se obtendrá mayor precisión.\n"
      ],
      "metadata": {
        "id": "svCQ0eM2Jy_E"
      }
    },
    {
      "cell_type": "code",
      "source": [
        "import scipy.stats as stats\n",
        "\n",
        "# Parámetros de la distribución binomial\n",
        "n = 20\n",
        "p_null = 0.8\n",
        "alpha_target = 0.01\n",
        "\n",
        "# Encontrar el mayor valor de c tal que P(Y <= c | p = 0.8) ≈ 0.01\n",
        "c = 0\n",
        "while stats.binom.cdf(c, n, p_null) < alpha_target:\n",
        "    c += 1\n",
        "\n",
        "# Calcular la probabilidad exacta para el c encontrado\n",
        "alpha_actual = stats.binom.cdf(c, n, p_null)\n",
        "\n",
        "print(f\"Valor de c: {c}\")\n",
        "print(f\"Nivel de significancia (α): {alpha_actual:.4f} ó {alpha_actual*100:.2f}%\")"
      ],
      "metadata": {
        "colab": {
          "base_uri": "https://localhost:8080/"
        },
        "id": "Z70uA0AgMfp_",
        "outputId": "f93afd03-b67d-499d-8f60-fd759639a6e4"
      },
      "execution_count": null,
      "outputs": [
        {
          "output_type": "stream",
          "name": "stdout",
          "text": [
            "Valor de c: 12\n",
            "Nivel de significancia (α): 0.0321 ó 3.21%\n"
          ]
        }
      ]
    },
    {
      "cell_type": "markdown",
      "source": [
        "**b) Para la región de rechazo del inciso a, encuentre $β$ cuando $p=0.6$.**\n",
        "$$β=P(Y>c∣p=0.6)$$\n",
        "$$β=1−P(Y≤c∣p=0.6)$$\n",
        "$$β=1−P(Y≤12∣p=0.6)$$\n",
        "Usando la fórmula de distribución binomial:\n",
        "$$P(Y=k)=\\binom{n}{k}p^k(1-p)^{n-k}$$\n",
        "$$P(Y≤12)=\\sum_{y=0}^{12}\\binom{20}{k}(0.6)^k(0.4)^{20-k}$$\n",
        "$$β≈0.416$$\n",
        "\n",
        "Utilizando un código en Python que cálcule $β$."
      ],
      "metadata": {
        "id": "QeBbq1-nNaQO"
      }
    },
    {
      "cell_type": "code",
      "source": [
        "import scipy.stats as stats\n",
        "\n",
        "# Parámetros de la distribución binomial\n",
        "n = 20\n",
        "p_alt1 = 0.6\n",
        "c = 12\n",
        "\n",
        "# Calcular P(Y <= 12) para p = 0.6\n",
        "p_y_leq_12_p06 = stats.binom.cdf(c, n, p_alt1)\n",
        "\n",
        "# Calcular β\n",
        "beta_06 = 1 - p_y_leq_12_p06\n",
        "\n",
        "print(f\"El valor de β es: {beta_06:.3f} ó {beta_06*100:.2f}%\")"
      ],
      "metadata": {
        "colab": {
          "base_uri": "https://localhost:8080/"
        },
        "id": "_mwF5_SJRQ9n",
        "outputId": "06110565-e03f-4110-eb08-e5ea27dc5a76"
      },
      "execution_count": null,
      "outputs": [
        {
          "output_type": "stream",
          "name": "stdout",
          "text": [
            "El valor de β es: 0.416 ó 41.59%\n"
          ]
        }
      ]
    },
    {
      "cell_type": "markdown",
      "source": [
        "**c) Para la región de rechazo del inciso a, encuentre $β$ cuando $p=0.4$. **\n",
        "\n",
        "$$β=P(Y>c∣p=0.4)$$\n",
        "$$β=1−P(Y≤c∣p=0.4)$$\n",
        "$$β=1−P(Y≤12∣p=0.4)$$\n",
        "Usando la fórmula de distribución binomial:\n",
        "$$P(Y=k)=\\binom{n}{k}p^k(1-p)^{n-k}$$\n",
        "$$P(Y≤12)=\\sum_{y=0}^{12}\\binom{20}{k}(0.4)^k(0.6)^{20-k}$$\n",
        "$$β≈0.021$$\n",
        "\n",
        "Usando un código en Python que cálcule el valor de $β$."
      ],
      "metadata": {
        "id": "R4KH6rOuR67p"
      }
    },
    {
      "cell_type": "code",
      "source": [
        "import scipy.stats as stats\n",
        "\n",
        "# Parámetros de la distribución binomial\n",
        "n = 20\n",
        "p_alt2 = 0.4\n",
        "c = 12\n",
        "\n",
        "# Calcular P(Y <= 12) para p = 0.4\n",
        "p_y_leq_12_p04 = stats.binom.cdf(c, n, p_alt2)\n",
        "\n",
        "# Calcular β\n",
        "beta_04 = 1 - p_y_leq_12_p04\n",
        "\n",
        "print(f\"El valor de β es: {beta_04:.3f} ó {beta_04*100:.2f}%\")"
      ],
      "metadata": {
        "colab": {
          "base_uri": "https://localhost:8080/"
        },
        "id": "J-9YRlXbSh5v",
        "outputId": "f6c295d2-df75-45ac-b117-8f4d0bdb76a9"
      },
      "execution_count": null,
      "outputs": [
        {
          "output_type": "stream",
          "name": "stdout",
          "text": [
            "El valor de β es: 0.021 ó 2.10%\n"
          ]
        }
      ]
    },
    {
      "cell_type": "markdown",
      "source": [
        "### 10.4 Suponga que deseamos probar la hipótesis nula H_0 de que la proporción p de hojas de contabilidad con errores es igual a .05 contra la alternativa H_a, de que la proporción es mayor que .05 usando el siguiente esquema. Se seleccionan al azar dos hojas de contabilidad. Si ninguna de ellas tiene errores, rechazamos $H_0$ ; si una o más contienen un error, vemos una tercera hoja. Si ésta no tiene errores, rechazamos H_0. En todos los otros casos aceptamos H_0.\n",
        "**a) De acuerdo con la información de este problema, ¿qué es un error tipo I?**\n",
        "\n",
        "En este contexto, un error tipo I ocurre cuando rechazamos la hipótesis nula $H_0$ (que la proporción $p$ de hojas de contabilidad con errores es igual a 0.05) cuando en realidad $H_0$ es verdadera. En otras palabras, es el error de concluir que hay errores en las hojas de contabilidad cuando en realidad la proporción de hojas con errores es realmente $p=0.05$. En el esquema dado, esto sucede si seleccionamos dos hojas y ninguna tiene errores, pero rechazamos $H_0$ incorrectamente.\n",
        "\n",
        "**b) ¿Cuál es el valor de $α$ relacionado con esta prueba?**\n",
        "\n",
        "$α$ es el nivel de significancia de la prueba, que representa la probabilidad de cometer un error tipo I. En este caso, el valor de $α$ está determinado por el esquema de la prueba. Dado que no se especifica explícitamente, generalmente se asume que $α=0.05$, que es el nivel de significancia estándar en muchas pruebas de hipótesis.\n",
        "\n",
        "**c) Con base en la información de este problema, ¿qué es un error tipo II?**\n",
        "\n",
        "Un error tipo II ocurre cuando no rechazamos $H_0$ (aceptamos $H_0$) cuando en realidad la hipótesis alternativa $H_a$ es verdadera. En este problema, sería no rechazar $H_0$ incluso si la proporción real de hojas con errores es mayor que 0.05. En el esquema dado, esto podría ocurrir cuando una o ambas hojas seleccionadas tienen errores, pero la tercera hoja (en caso de que se seleccione) no tiene errores, y aún así no rechazamos $H_0$.\n",
        "\n",
        "**d) Calcule $β = P$(error tipo II) como una función de $p$.**\n",
        "\n",
        "Para calcular $β$, necesitamos considerar la probabilidad de no rechazar $H_0$ cuando $H_a$ es verdadera. Específicamente, $β$ es la probabilidad de no rechazar $H_0$ dado que la verdadera proporción $p>0.05$.\n",
        "$$β=P(aceptar\\,H_0∣p>0.05)$$\n",
        "Supongamos que $p=0.06$ como ejemplo (un valor mayor a 0.05).\n",
        "\n",
        "Casos en los que no se rechaza $H_0$:\n",
        "*   Ambas primeras hojas no tienen errores. La probabilidad de que ambas hojas no tengan errores es $(1-p)^2$.\n",
        "*   Al menos una de las primeras dos hojas tiene un error, pero la tercera hoja (si se selecciona) no tiene errores.\n",
        "\n",
        "Cálculo de $β$ con $p=0.06$:\n",
        "*   Probabilidad de que las dos primeras hojas no tengan errores: $(1-0.06)^2=0.8836$.\n",
        "*   Probabilidad de que al menos una de las dos primeras hojas tenga un error: $1-0.8836=0.1164.$\n",
        "* Si al menos una hoja tiene un error, la probabilidad de que la tercera hoja no tenga errores (y por lo tanto no rechacemos $H_0$): $0.1164⋅(1-0.06)=0.109704$.\n",
        "\n",
        "Por lo tanto, $β=0.8836+0.109704=0.993304$.\n",
        "\n",
        "Este valor de $β$ es específico para $p=0.06$, es decir, cuando la proporción real de hojas con errores es 0.06. Para otras valores de $p$, deberíamos repetir este proceso ajustando la probabilidad según la proporción específica $p$ bajo la hipótesis alternativa $H_a$.\n",
        "\n",
        "Sin embargo, para un mejor analisis, se implementará un código en Python con diferentes valores de $p$.\n"
      ],
      "metadata": {
        "id": "UkLprzaeeJ4k"
      }
    },
    {
      "cell_type": "code",
      "source": [
        "import numpy as np\n",
        "import matplotlib.pyplot as plt\n",
        "\n",
        "def calcular_beta(p):\n",
        "    # Probabilidad de que las dos primeras hojas no tengan errores\n",
        "    prob_no_errores = (1 - p) ** 2\n",
        "\n",
        "    # Probabilidad de que al menos una de las dos primeras hojas tenga un error\n",
        "    prob_al_menos_un_error = 1 - prob_no_errores\n",
        "\n",
        "    # Si al menos una hoja tiene un error, probabilidad de que la tercera hoja no tenga errores\n",
        "    if prob_al_menos_un_error > 0:\n",
        "        prob_tercera_no_errores = prob_al_menos_un_error * (1 - p)\n",
        "    else:\n",
        "        prob_tercera_no_errores = 0\n",
        "\n",
        "    # Probabilidad de error tipo II (no rechazar H_0 cuando p > 0.05)\n",
        "    beta = prob_no_errores + prob_tercera_no_errores\n",
        "\n",
        "    return beta\n",
        "\n",
        "# Crear una lista de valores de p desde 0 hasta 1\n",
        "valores_p = np.linspace(0, 1, 100)\n",
        "valores_beta = [calcular_beta(p) for p in valores_p]\n",
        "\n",
        "# Imprimir los valores de p y beta calculados\n",
        "for p, beta in zip(valores_p, valores_beta):\n",
        "    print(f\"p: {p:.2f}, beta: {beta:.4f}\")\n",
        "\n",
        "# Graficar los resultados\n",
        "plt.plot(valores_p, valores_beta, label='β(p)')\n",
        "plt.xlabel('Proporción de errores (p)')\n",
        "plt.ylabel('β (Probabilidad de error tipo II)')\n",
        "plt.title('Probabilidad de error tipo II en función de p')\n",
        "plt.axvline(x=0.05, color='r', linestyle='--', label='p=0.05')\n",
        "plt.legend()\n",
        "plt.grid(True)\n",
        "plt.show()\n"
      ],
      "metadata": {
        "colab": {
          "base_uri": "https://localhost:8080/",
          "height": 1000
        },
        "id": "ljTIMHNWvj8h",
        "outputId": "f62043ad-c4b8-4794-b014-0af2fe31f58c"
      },
      "execution_count": null,
      "outputs": [
        {
          "output_type": "stream",
          "name": "stdout",
          "text": [
            "p: 0.00, beta: 1.0000\n",
            "p: 0.01, beta: 0.9998\n",
            "p: 0.02, beta: 0.9992\n",
            "p: 0.03, beta: 0.9982\n",
            "p: 0.04, beta: 0.9968\n",
            "p: 0.05, beta: 0.9950\n",
            "p: 0.06, beta: 0.9929\n",
            "p: 0.07, beta: 0.9904\n",
            "p: 0.08, beta: 0.9875\n",
            "p: 0.09, beta: 0.9842\n",
            "p: 0.10, beta: 0.9806\n",
            "p: 0.11, beta: 0.9767\n",
            "p: 0.12, beta: 0.9724\n",
            "p: 0.13, beta: 0.9678\n",
            "p: 0.14, beta: 0.9628\n",
            "p: 0.15, beta: 0.9576\n",
            "p: 0.16, beta: 0.9520\n",
            "p: 0.17, beta: 0.9461\n",
            "p: 0.18, beta: 0.9399\n",
            "p: 0.19, beta: 0.9334\n",
            "p: 0.20, beta: 0.9266\n",
            "p: 0.21, beta: 0.9196\n",
            "p: 0.22, beta: 0.9122\n",
            "p: 0.23, beta: 0.9046\n",
            "p: 0.24, beta: 0.8967\n",
            "p: 0.25, beta: 0.8886\n",
            "p: 0.26, beta: 0.8802\n",
            "p: 0.27, beta: 0.8715\n",
            "p: 0.28, beta: 0.8626\n",
            "p: 0.29, beta: 0.8535\n",
            "p: 0.30, beta: 0.8442\n",
            "p: 0.31, beta: 0.8346\n",
            "p: 0.32, beta: 0.8248\n",
            "p: 0.33, beta: 0.8148\n",
            "p: 0.34, beta: 0.8046\n",
            "p: 0.35, beta: 0.7942\n",
            "p: 0.36, beta: 0.7836\n",
            "p: 0.37, beta: 0.7728\n",
            "p: 0.38, beta: 0.7619\n",
            "p: 0.39, beta: 0.7508\n",
            "p: 0.40, beta: 0.7395\n",
            "p: 0.41, beta: 0.7280\n",
            "p: 0.42, beta: 0.7164\n",
            "p: 0.43, beta: 0.7046\n",
            "p: 0.44, beta: 0.6927\n",
            "p: 0.45, beta: 0.6807\n",
            "p: 0.46, beta: 0.6685\n",
            "p: 0.47, beta: 0.6562\n",
            "p: 0.48, beta: 0.6438\n",
            "p: 0.49, beta: 0.6313\n",
            "p: 0.51, beta: 0.6187\n",
            "p: 0.52, beta: 0.6059\n",
            "p: 0.53, beta: 0.5931\n",
            "p: 0.54, beta: 0.5802\n",
            "p: 0.55, beta: 0.5672\n",
            "p: 0.56, beta: 0.5542\n",
            "p: 0.57, beta: 0.5411\n",
            "p: 0.58, beta: 0.5279\n",
            "p: 0.59, beta: 0.5146\n",
            "p: 0.60, beta: 0.5013\n",
            "p: 0.61, beta: 0.4880\n",
            "p: 0.62, beta: 0.4746\n",
            "p: 0.63, beta: 0.4612\n",
            "p: 0.64, beta: 0.4478\n",
            "p: 0.65, beta: 0.4343\n",
            "p: 0.66, beta: 0.4209\n",
            "p: 0.67, beta: 0.4074\n",
            "p: 0.68, beta: 0.3939\n",
            "p: 0.69, beta: 0.3805\n",
            "p: 0.70, beta: 0.3670\n",
            "p: 0.71, beta: 0.3536\n",
            "p: 0.72, beta: 0.3402\n",
            "p: 0.73, beta: 0.3268\n",
            "p: 0.74, beta: 0.3135\n",
            "p: 0.75, beta: 0.3002\n",
            "p: 0.76, beta: 0.2869\n",
            "p: 0.77, beta: 0.2738\n",
            "p: 0.78, beta: 0.2606\n",
            "p: 0.79, beta: 0.2476\n",
            "p: 0.80, beta: 0.2346\n",
            "p: 0.81, beta: 0.2217\n",
            "p: 0.82, beta: 0.2089\n",
            "p: 0.83, beta: 0.1961\n",
            "p: 0.84, beta: 0.1835\n",
            "p: 0.85, beta: 0.1710\n",
            "p: 0.86, beta: 0.1586\n",
            "p: 0.87, beta: 0.1463\n",
            "p: 0.88, beta: 0.1341\n",
            "p: 0.89, beta: 0.1221\n",
            "p: 0.90, beta: 0.1102\n",
            "p: 0.91, beta: 0.0984\n",
            "p: 0.92, beta: 0.0868\n",
            "p: 0.93, beta: 0.0754\n",
            "p: 0.94, beta: 0.0641\n",
            "p: 0.95, beta: 0.0529\n",
            "p: 0.96, beta: 0.0420\n",
            "p: 0.97, beta: 0.0312\n",
            "p: 0.98, beta: 0.0206\n",
            "p: 0.99, beta: 0.0102\n",
            "p: 1.00, beta: 0.0000\n"
          ]
        },
        {
          "output_type": "display_data",
          "data": {
            "text/plain": [
              "<Figure size 640x480 with 1 Axes>"
            ],
            "image/png": "[encoded data removed]"
          },
          "metadata": {}
        }
      ]
    },
    {
      "cell_type": "markdown",
      "source": [
        "### 10.5 Suponga que $Y_1$, y $Y_2$ son independientes y están distribuidas idénticamente con una distribución uniforme en el intervalo $(θ, θ + 1)$. Para probar $H_0: θ = 0$ contra $H_a: θ > 0$, tenemos dos pruebas:\n",
        "### Prueba 1: rechazar $H_0$ si $Y_1 > 0.95$.\n",
        "### Prueba 2: rechazar $H_0$ si $Y_1 + Y_2 > c$.\n",
        "### Encuentre el valor de c para que la prueba 2 tenga el mismo valor para $α$ que la prueba 1.\n",
        "Prueba 1:\n",
        "*   Rechazar $H_0$ si $Y_1>0.95$.\n",
        "*   Esto implica que el nivel de significancia $α$ para esta prueba es $P(Y_1>0.95∣θ=0)$.\n",
        "\n",
        "Prueba 2:\n",
        "*   Rechazar $H_0$ si $Y_1+Y_2>c$.\n",
        "*   Para que tenga el mismo nivel de significancia $α$, necesitamos que $P(Y_1+Y_2>c∣θ=0)=α$.\n",
        "\n",
        "Dado que $Y_1$ y $Y_2$ son independientes y uniformemente distribuidas en $(θ,θ+1)$:\n",
        "1.   Distribución de $Y_1$ y $Y_2$:\n",
        "$$Y_1,Y_2∼Uniforme(θ,θ+1)$$\n",
        "2.   Suma de $Y_1$ y $Y_2$:\n",
        "$$Y_1+Y_2∼Uniforme(2θ,2θ+2)$$\n",
        "\n",
        "Para determinar $c$, necesitamos encontrar el valor de $c$ tal que $P(Y_1+Y_2>c∣θ=0)=α$.\n",
        "\n",
        "Para una distribución uniforme $(a,b)$, la probabilidad de que $Y_1+Y_2>c$ se puede calcular como:\n",
        "$$P(Y_1+Y_2>c)=\\frac{b−c}{b−a}$$\n",
        "Donde $a=0$ y $b=2$\n",
        "\n",
        "Entonces: $\\frac{2-c}{2-0}=α$\n",
        "\n",
        "Despejando $c$: $2-c=2α \\to c=2-2α$\n",
        "\n",
        "Por lo tanto, el valor de $c$ para que la prueba 2 tenga el mismo nivel de significancia $α$ que la prueba 1 es $c=2-2α$.\n",
        "\n",
        "Dado que $Y_1$ sigue una distribución uniforme en el intervalo (0,1) bajo $H_0$:\n",
        "$$Y_1∼Uniforme(0,1)$$\n",
        "La probabilidad de que $Y_1$ sea mayor que 0.95 es:\n",
        "$$P(Y_1>0.95∣θ=0)=1−P(Y_1≤0.95∣θ=0)=1−0.95=0.05$$\n",
        "Por lo tanto, el nivel de significancia $α$ para la Prueba 1 es 0.05.\n",
        "\n",
        "Usando este valor de $α$ en la fórmula para $c$ en la Prueba 2:\n",
        "$$c=2−2α=2−2(0.05)=2−0.1=1.9$$\n",
        "\n",
        "Por lo tanto, el valor de $α$ es 0.05 y el valor de $c$ en la Prueba 2 es 1.9 para que ambas pruebas tengan el mismo nivel de significancia.\n",
        "\n",
        "Para un mejor análisis, se implementará un código en Python."
      ],
      "metadata": {
        "id": "3LCLnm3PzQnC"
      }
    },
    {
      "cell_type": "code",
      "source": [
        "# Definimos las variables\n",
        "import numpy as np\n",
        "\n",
        "# Nivel de significancia para la Prueba 1\n",
        "alpha = 1 - 0.95\n",
        "\n",
        "# Calculamos c para la Prueba 2\n",
        "c = 2 - 2 * alpha\n",
        "\n",
        "# Imprimimos los resultados\n",
        "print(f\"El nivel de significancia α para la Prueba 1 es: {alpha:.2f}\")\n",
        "print(f\"El valor de c para la Prueba 2 es: {c:.2f}\")\n",
        "\n",
        "# Verificación: Simulación para comprobar los valores calculados\n",
        "# Número de simulaciones\n",
        "n_simulaciones = 100000\n",
        "\n",
        "# Simulación para la Prueba 1\n",
        "y1 = np.random.uniform(0, 1, n_simulaciones)\n",
        "rechazos_prueba1 = np.sum(y1 > 0.95) / n_simulaciones\n",
        "\n",
        "# Simulación para la Prueba 2\n",
        "y1 = np.random.uniform(0, 1, n_simulaciones)\n",
        "y2 = np.random.uniform(0, 1, n_simulaciones)\n",
        "rechazos_prueba2 = np.sum(y1 + y2 > c) / n_simulaciones\n",
        "\n",
        "# Imprimimos los resultados de las simulaciones\n",
        "print(f\"Proporción de rechazos en la Prueba 1: {rechazos_prueba1:.3f}\")\n",
        "print(f\"Proporción de rechazos en la Prueba 2: {rechazos_prueba2:.3f}\")\n"
      ],
      "metadata": {
        "colab": {
          "base_uri": "https://localhost:8080/"
        },
        "id": "BCRFV-UQCAa5",
        "outputId": "19194875-5dd2-4213-cd52-b6bc673b991a"
      },
      "execution_count": null,
      "outputs": [
        {
          "output_type": "stream",
          "name": "stdout",
          "text": [
            "El nivel de significancia α para la Prueba 1 es: 0.05\n",
            "El valor de c para la Prueba 2 es: 1.90\n",
            "Proporción de rechazos en la Prueba 1: 0.049\n",
            "Proporción de rechazos en la Prueba 2: 0.005\n"
          ]
        }
      ]
    },
    {
      "cell_type": "markdown",
      "source": [
        "### 10.6 Nos interesa probar si una moneda está o no balanceada, con base en el número de caras Y en 36 tiros de la moneda. $(H_0: p = 0.5$ contra $H_a ≠ 0.5)$. Si usamos la región de rechazo ly - 18|≥ 4, ¿cuál es\n",
        "**a) el valor de a?**\n",
        "\n",
        "la región de rechazo está dada por $∣Y-18∣≥4$.\n",
        "*   La prueba es bilateral, por lo que se rechaza $H_0$ si $∣Y-18∣≥4$\n",
        "*   Esto significa que se rechaza $H_0$ si $Y≤14$ ó $Y≥22$.\n",
        "\n",
        "Bajo $H_0:p=0.5$, la distribución de $Y$, el número de caras en 36 tiros, sigue una distribución binomial $Y∼Binomial(36,0.5)$.\n",
        "\n",
        "La región de rechazo es $∣Y-18∣≥4$, que se traduce en $Y≤14$ ó $Y≥22$.\n",
        "\n",
        "Para encontrar $α$, calcularemos las probabilidades correspondientes bajo $H_0$:\n",
        "$$α=P(Y≤14 o Y≥22∣p=0.5)$$\n",
        "Calculando cada parte por separado:\n",
        "1.   $P(Y≤14)$:\n",
        "$$P(Y≤14)=\\sum_{y=0}^{14}\\binom{36}{y}(0.5)^{36}$$\n",
        "2.   $P(Y≥22)$:\n",
        "$$P(Y≥22)=1-\\sum_{y=0}^{21}\\binom{36}{y}(0.5)^{36}$$\n",
        "Al sumar estos dos valores, se obtiene $α$.\n",
        "$$α≈0.243$$\n",
        "Esto significa que la probabilidad de rechazar incorrectamente la hipótesis nula $H_0$ cuando es verdadera es aproximadamente 24.3%.\n",
        "\n",
        "Se implementará un código en Python para rectificar valores.\n",
        "\n"
      ],
      "metadata": {
        "id": "9fGRyKiNCh7-"
      }
    },
    {
      "cell_type": "code",
      "source": [
        "import scipy.stats as stats\n",
        "\n",
        "# Parámetros\n",
        "n = 36\n",
        "p_null = 0.5\n",
        "\n",
        "# Región de rechazo: Y <= 14 o Y >= 22\n",
        "alpha_left = stats.binom.cdf(14, n, p_null)\n",
        "alpha_right = 1 - stats.binom.cdf(21, n, p_null)\n",
        "alpha = alpha_left + alpha_right\n",
        "\n",
        "print(f\"Nivel de significancia (α): {alpha:.3f} ó {alpha*100:.2f}%\")"
      ],
      "metadata": {
        "colab": {
          "base_uri": "https://localhost:8080/"
        },
        "id": "GikAiNEgHc2v",
        "outputId": "a89e72af-5565-49f0-cc94-0b9f4166406a"
      },
      "execution_count": null,
      "outputs": [
        {
          "output_type": "stream",
          "name": "stdout",
          "text": [
            "Nivel de significancia (α): 0.243 ó 24.30%\n"
          ]
        }
      ]
    },
    {
      "cell_type": "markdown",
      "source": [
        "**b) el valor de ẞ si $p=0.7$?**\n",
        "\n",
        "Para encontrar $β$, necesitamos calcular la probabilidad de no rechazar $H_0$ cuando $p=0.7$, lo cual implica calcular la probabilidad de caer dentro de la región de no rechazo $14< Y < 22$ bajo la hipótesis alternativa $p=0.7$.\n",
        "$$β=P(14< Y < 22∣p=0.7)$$\n",
        "Calculamos esta probabilidad usando la distribución binomial con $p=0.7$:\n",
        "$$β=\\sum_{y=15}^{21}\\binom{36}{y}(0.7)^y(0.3)^{36-y}$$\n",
        "$$β≈0.092$$\n",
        "Esto significa que la probabilidad de no rechazar $H_0$ cuando la verdadera probabilidad de caras $p$ es 0.7 es aproximadamente 9.2%.\n",
        "\n",
        "Se utilizará un código en Python para rectificar éste valor."
      ],
      "metadata": {
        "id": "u7-adr6OHnXl"
      }
    },
    {
      "cell_type": "code",
      "source": [
        "import scipy.stats as stats\n",
        "\n",
        "# Parámetros\n",
        "n = 36\n",
        "p_alt = 0.7\n",
        "\n",
        "# Región de no rechazo: 15 <= Y <= 21\n",
        "beta = stats.binom.cdf(21, n, p_alt) - stats.binom.cdf(14, n, p_alt)\n",
        "\n",
        "print(f\"Error de Tipo II (β): {beta:.3f} ó {beta*100:.1f}%\")"
      ],
      "metadata": {
        "colab": {
          "base_uri": "https://localhost:8080/"
        },
        "id": "h3rT--6HI2g8",
        "outputId": "25d5df32-11d3-4fcb-845d-2d291de95488"
      },
      "execution_count": null,
      "outputs": [
        {
          "output_type": "stream",
          "name": "stdout",
          "text": [
            "Error de Tipo II (β): 0.092 ó 9.2%\n"
          ]
        }
      ]
    },
    {
      "cell_type": "markdown",
      "source": [
        "### Verdadero o falso. Consulte el ejercicio 10.6.\n",
        "**a) El nivel de la prueba calculado en el inciso (a) es la probabilidad de que $H_0$ sea verdadera.**\n",
        "\n",
        "FALSO. El nivel de la prueba ($α$) es la probabilidad de rechazar $H_0$ cuando\n",
        "$H_0$ es verdadera, no la probabilidad de que $H_0$ sea verdadera.\n",
        "\n",
        "**b) El valor de $β$ calculado en el inciso (b) es la probabilidad de que $H_a$ sea verdadera.**\n",
        "\n",
        "FALSO. El valor de $β$ es la probabilidad de no rechazar $H_0$ cuando $H_a$ es verdadera (es decir, cuando la verdadera probabilidad de caras es 0.7).\n",
        "\n",
        "**c) En el inciso (b), $β$ se calculó suponiendo que la hipótesis nula era falsa.**\n",
        "\n",
        "VERDADERO. $β$ se calcula bajo la suposición de que la hipótesis alternativa $H_a$ es verdadera, en este caso, $p=0.7$.\n",
        "\n",
        "**d) Si $β$ se calculó cuando $p=0.55$, el valor sería más grande que el valor de $β$ obtenido en el inciso (b).**\n",
        "\n",
        "VERDADERO. Si $p$ está más cerca de 0.5 (la hipótesis nula), entonces la probabilidad de no rechazar $h_0$ es mayor, lo que significa que $β$ sería más grande.\n",
        "\n",
        "**e) La probabilidad de que la prueba equivocadamente rechace $H_0$ es $β$.**\n",
        "\n",
        "FALSO. La probabilidad de que la prueba equivocadamente rechace $H_0$ es $α$, no $β$. $β$ es la probabilidad de no rechazar $H_0$ cuando $H_a$ es verdadera.\n",
        "\n",
        "**f) Suponga que la región de rechazo (RR) se cambió a $|y-18|≥2$.**\n",
        "* $i$ Esta RR llevaría a rechazar la hipótesis nula con más frecuencia que la RR empleada en el ejercicio anterior.\n",
        "\n",
        " VERDADERO. Una región de rechazo más amplia (reduciendo el umbral a 2 en lugar de 4) aumentará la frecuencia de rechazar $H_0$.\n",
        "* $ii$ Si α se calculó usando esta nueva RR, el valor sería más grande que el valor obtenido en el inciso (a).\n",
        "\n",
        " VERDADERO. Una región de rechazo más amplia aumentará la probabilidad de rechazar $H_0$ cuando es verdadera, lo que incrementa $α$.\n",
        "\n",
        "* $iii$ Si $β$ se calculó cuando p = 0.7 y usando esta nueva RR, el valor sería más grande que el valor obtenido en el inciso (b).\n",
        "\n",
        " FALSO. Con una región de rechazo más amplia, $β$ disminuye porque es más probable que rechacemos $H_0$ cuando $H_a$ es verdadera.\n"
      ],
      "metadata": {
        "id": "GivdQJn6JQki"
      }
    },
    {
      "cell_type": "markdown",
      "source": [
        "### 10.8 Una prueba clínica en dos etapas está planeada para probar $H_0:p=0$.10 contra $H_a:p>0.10$, donde $p$ es la proporción de pacientes que responden a un tratamiento y que fueron tratados según el protocolo. En la primera etapa, 15 pacientes se acumularon y trataron. Si 4 o más de los que responden se observan entre los (primeros) 15 pacientes, $H_0$ es rechazada, el estudio se termina y no se acumulan más pacientes. De otro modo, otros 15 pacientes se acumularán y tratarán en la segunda etapa. Si un total de 6 o más de los que responden se observan entre los 30 pacientes acumulados en las dos etapas (15 en la primera etapa y 15 más en la segunda etapa), entonces $H_0$ es rechazada. Por ejemplo, si 5 de los que responden se encuentran entre los pacientes de la primera etapa, $H_0$ es rechazada y el estudio se termina. No obstante, si 2 de los que responden se encuentran entre los pacientes de la primera etapa, se acumulan 15 pacientes de la segunda etapa y se identifican otros 4 o más de los que responden (para un total de 6 o más entre los 30), $H_0$ es rechazada y el estudio termina.\n",
        "**a) Utilice la tabla binomial para hallar el valor numérico de α para este procedimiento de prueba.**\n",
        "\n",
        "Para la primera etapa:\n",
        "*   $n=15$\n",
        "*   $p=0.10$\n",
        "\n",
        "Se necesita calcular la probabilidad de observar 4 o más éxitos entre los 15 pacientes en la primera\n",
        "$$α_1=P(X≥4∣p=0.10)$$\n",
        "donde $X∼Binomial(15,0.10)$.\n",
        "\n",
        "Se utiliza la tabla binomial para calcular esto:\n",
        "$$α_1=P(X≥4)=1−P(X≤3)$$\n",
        "Se busca $P(X≤3)$ en la tabla binomial:\n",
        "$$P(X=0)+P(X=1)+P(X=2)+P(X=3)$$\n",
        "De la tabla binomial, se obtiene:\n",
        "*   ($P(X=0)=\\binom{15}{0}(0.10)^0(0.90)^{15}≈0.2059$)\n",
        "*   ($P(X=1)=\\binom{15}{1}(0.10)^1(0.90)^{14}≈0.3433$)\n",
        "*   ($P(X=2)=\\binom{15}{2}(0.10)^2(0.90)^{13}≈0.2751$)\n",
        "*   ($P(X=3)=\\binom{15}{3}(0.10)^3(0.90)^{12}≈0.1376$)\n",
        "\n",
        "Se suman estas probabilidades:\n",
        "$$P(X≤3)≈0.2059+0.3433+0.2751+0.1376=0.9619$$\n",
        "Entonces, la probabilidad de observar 4 o más éxitos es:\n",
        "$$α_1=1-P(X≤3)≈1-0.9619=0.0381$$\n",
        "Para la segunda etapa:\n",
        "*   $n=30$\n",
        "*   $p=0.10$\n",
        "\n",
        "Se necesita calcular la probabilidad de observar un total de 6 o más éxitos entre los 30 pacientes en ambas etapas (incluyendo la primera etapa):\n",
        "$$α_2=P(X_1+X_2≥6∣p=0.10)$$\n",
        "donde $X_1∼Binomial(15,0.10)$ y $X_2∼Binomial(15,0.10)$.\n",
        "\n",
        "Para simplificar, calculamos la probabilidad de observar menos de 6 éxitos en total y restamos de 1:\n",
        "$$α_2=1-P(X_1+X_2< 6)$$\n",
        "Para esto, consideramos que $X_1+X_2∼Binomial(30,0.10)$ y se busca $P(X≤5)$ en la tabla binomial:\n",
        "*   $P(X=0)≈0.0426$\n",
        "*   $P(X=1)≈0.1413$\n",
        "*   $P(X=2)≈0.2270$\n",
        "*   $P(X=3)≈0.2270$\n",
        "*   $P(X=4)≈0.1573$\n",
        "*   $P(X=5)≈0.0880$\n",
        "\n",
        "Se suman estas probabilidades:\n",
        "$$P(X≤5)≈0.0426+0.1413+0.2270+0.2270+0.1573+0.0880=0.8832$$\n",
        "Entonces, la probabilidad de observar 6 o más éxitos es:\n",
        "$$α_2=1-P(X≤5)≈1-0.8832=0.1168$$\n",
        "La probabilidad total $α$ es la combinación de ambas etapas:\n",
        "$$α_{total}=α_1+(1-α_1)α_2≈0.0381+(1-0.0381)×0.1168≈0.1124$$\n",
        "\n",
        "Se implementará un código en Python para comprobar los cálculos."
      ],
      "metadata": {
        "id": "DHpIT44hp7HV"
      }
    },
    {
      "cell_type": "code",
      "source": [
        "from scipy.stats import binom\n",
        "\n",
        "# Parámetros de la distribución binomial\n",
        "n1 = 15\n",
        "p0 = 0.10\n",
        "\n",
        "# Calcular la probabilidad de observar 4 o más éxitos en la primera etapa\n",
        "alpha1 = 1 - binom.cdf(3, n1, p0)\n",
        "\n",
        "# Parámetros para la segunda etapa\n",
        "n2 = 30\n",
        "\n",
        "# Calcular la probabilidad de observar 6 o más éxitos en total en ambas etapas\n",
        "alpha2 = 1 - binom.cdf(5, n2, p0)\n",
        "\n",
        "# Calcular el valor total de alpha\n",
        "alpha = alpha1 + (1 - alpha1) * alpha2\n",
        "\n",
        "# Imprimir el resultado\n",
        "print(f\"El valor de α para este procedimiento de prueba es: {alpha:.4f}\")"
      ],
      "metadata": {
        "colab": {
          "base_uri": "https://localhost:8080/"
        },
        "id": "M5MqZnEHy_oh",
        "outputId": "4c887430-ea6c-49a0-ee73-d4c3cc124a51"
      },
      "execution_count": 2,
      "outputs": [
        {
          "output_type": "stream",
          "name": "stdout",
          "text": [
            "El valor de α para este procedimiento de prueba es: 0.1247\n"
          ]
        }
      ]
    },
    {
      "cell_type": "markdown",
      "source": [
        "**b) Utilice la tabla binomial para determinar la probabilidad de rechazar la hipótesis nula cuando use esta región de rechazo si $p=0.30$.**\n",
        "\n",
        "Para la primera etapa:\n",
        "*   $n=15$\n",
        "*   $p=0.30$\n",
        "\n",
        "Se va a calcular la probabilidad de observar 4 o más éxitos:\n",
        "$$β_1=P(X≥4∣p=0.30)$$\n",
        "donde $X∼Binomial(15,0.30)$.\n",
        "\n",
        "De la tabla binomial, se obtiene:\n",
        "*   ($P(X=0)=\\binom{15}{0}(0.30)^0(0.70)^{15}≈0.0047$)\n",
        "*   ($P(X=1)=\\binom{15}{1}(0.30)^1(0.70)^{14}≈0.0297$)\n",
        "*   ($P(X=2)=\\binom{15}{2}(0.30)^2(0.70)^{13}≈0.0856$)\n",
        "*   ($P(X=3)=\\binom{15}{3}(0.30)^3(0.70)^{12}≈0.1674$)\n",
        "\n",
        "Se suman estas probabilidades:\n",
        "$$P(X≤3)≈0.0047+0.0297+0.0856+0.1674=0.2874$$\n",
        "Entonces, la probabilidad de observar 4 o más éxitos es:\n",
        "$$β_1=1−P(X≤3)≈1-0.2874=0.7126$$\n",
        "Para la segunda etapa:\n",
        "*   $n=30$\n",
        "*   $p=0.30$\n",
        "\n",
        "Se va a calcular la probabilidad de observar un total de 6 o más éxitos entre los 30 pacientes en ambas etapas:\n",
        "$$β_2=P(X_1+X_2≥6∣p=0.30)$$\n",
        "donde $X_1∼Binomial(15,0.30)$ y $X_2∼Binomial(15,0.30)$.\n",
        "\n",
        "Se suman las probabilidades para $X≤5$:\n",
        "* $P(X=0)≈0.0001$\n",
        "* $P(X=1)≈0.0012$\n",
        "* $P(X=2)≈0.0078$\n",
        "* $P(X=3)≈0.0285$\n",
        "* $P(X=4)≈0.0735$\n",
        "* $P(X=5)≈0.1323$\n",
        "\n",
        "Se suman estas probabilidades:\n",
        "$$P(X≤5)≈0.0001+0.0012+0.0078+0.0285+0.0735+0.1323=0.2434$$\n",
        "Entonces, la probabilidad de observar 6 o más éxitos es:\n",
        "$$β_2=1-P(X≤5)≈1-0.2434=0.7566$$\n",
        "La probabilidad total de rechazar $H_0$ es:\n",
        "$$β=β_1+(1-β_1)β_2≈0.7126+(1-0.7126)×0.7566≈0.7126+0.2168=0.9294$$\n",
        "\n"
      ],
      "metadata": {
        "id": "8INQp3p_3AE0"
      }
    },
    {
      "cell_type": "code",
      "source": [
        "from scipy.stats import binom\n",
        "\n",
        "# Parámetros de la distribución binomial\n",
        "n1 = 15\n",
        "p1 = 0.30\n",
        "\n",
        "# Calcular la probabilidad de observar 4 o más éxitos en la primera etapa\n",
        "prob_rechazo_primera_etapa = 1 - binom.cdf(3, n1, p1)\n",
        "\n",
        "# Parámetros para la segunda etapa\n",
        "n2 = 30\n",
        "\n",
        "# Calcular la probabilidad de observar 6 o más éxitos en total en ambas etapas\n",
        "prob_rechazo_segunda_etapa = 1 - binom.cdf(5, n2, p1)\n",
        "\n",
        "# Calcular la probabilidad total de rechazar H0\n",
        "prob_rechazo_total = prob_rechazo_primera_etapa + (1 - prob_rechazo_primera_etapa) * prob_rechazo_segunda_etapa\n",
        "\n",
        "# Imprimir el resultado\n",
        "print(f\"La probabilidad de rechazar H0 cuando p = 0.30 es: {prob_rechazo_total:.4f}\")"
      ],
      "metadata": {
        "colab": {
          "base_uri": "https://localhost:8080/"
        },
        "id": "Yo5VgFT23rmv",
        "outputId": "62d82270-1f1c-4c1a-edef-9fe71de91434"
      },
      "execution_count": 3,
      "outputs": [
        {
          "output_type": "stream",
          "name": "stdout",
          "text": [
            "La probabilidad de rechazar H0 cuando p = 0.30 es: 0.9773\n"
          ]
        }
      ]
    },
    {
      "cell_type": "markdown",
      "source": [
        "**c) Para la región de rechazo definida líneas antes, encuentre $β$ si $p=0.30$**.\n",
        "\n",
        "$β$ es la probabilidad de no rechazar $H_0$ cuando $H_a$ es verdadera, es decir, cuando $p=0.30$.\n",
        "\n",
        "Primero, se revisan los cálculos hechos en la parte b):\n",
        "\n",
        "Para la primera etapa:\n",
        "\n",
        "* $n=15$\n",
        "* $p=0.30$\n",
        "\n",
        "La probabilidad de observar 4 o más éxitos es:\n",
        "$$β_1=P(X≥4∣p=0.30)$$\n",
        "donde $X∼Binomial(15,0.30)$.\n",
        "\n",
        "De la tabla binomial:\n",
        "$$P(X≤3)≈0.2874$$\n",
        "Entonces, la probabilidad de observar 4 o más éxitos es:\n",
        "$$β_1=1−P(X≤3)≈1-0.2874=0.7126$$\n",
        "La probabilidad de no observar 4 o más éxitos es:\n",
        "$$1-β_1=1-0.7126=0.2874$$\n",
        "Patra la segunda etapa:\n",
        "* $n=30$\n",
        "* $p=0.30$\n",
        "\n",
        "La probabilidad de observar un total de 6 o más éxitos entre los 30 pacientes en ambas etapas:\n",
        "$$β_2=P(X_1+X_2≥6∣p=0.30)$$\n",
        "Se sumam las probabilidades para $X≤5$:\n",
        "$$P(X≤5)≈0.2434$$\n",
        "Entonces, la probabilidad de observar 6 o más éxitos es:\n",
        "$$β_2=1-P(X≤5)≈1-0.2434=0.7566$$\n",
        "La probabilidad de no observar 6 o más éxitos es:\n",
        "$$1-β_2=1-0.7566=0.2434$$\n",
        "La probabilidad total de no rechazar $H_0$ es la combinación de ambas etapas:\n",
        "$$β=(1-β_1)+β_1(1-β_2)$$\n",
        "Se sustituyen los valores calculados:\n",
        "$$β=0.2874+0.7126×0.2434$$\n",
        "$$0.7126×0.2434≈0.1733$$\n",
        "Se suman las probabilidades:\n",
        "$$β=0.2874+0.1733=0.4607$$\n",
        "Entonces, la probabilidad de no rechazar $H_0$ cuando $p=0.30$ es $β≈0.4607$."
      ],
      "metadata": {
        "id": "9J4OzJgM3r_B"
      }
    },
    {
      "cell_type": "code",
      "source": [
        "from scipy.stats import binom\n",
        "\n",
        "# Parámetros de la distribución binomial\n",
        "n1 = 15\n",
        "p1 = 0.30\n",
        "\n",
        "# Calcular la probabilidad de no observar 4 o más éxitos en la primera etapa\n",
        "beta1 = binom.cdf(3, n1, p1)\n",
        "\n",
        "# Parámetros para la segunda etapa\n",
        "n2 = 30\n",
        "\n",
        "# Calcular la probabilidad de no observar 6 o más éxitos en total en ambas etapas\n",
        "beta2 = binom.cdf(5, n2, p1)\n",
        "\n",
        "# Calcular el valor total de beta\n",
        "beta = beta1 + (1 - beta1) * (1 - beta2)\n",
        "\n",
        "# Imprimir el resultado\n",
        "print(f\"El valor de β si p = 0.30 es: {beta:.4f}\")"
      ],
      "metadata": {
        "colab": {
          "base_uri": "https://localhost:8080/"
        },
        "id": "h8g3ZZf14D68",
        "outputId": "4f5db28a-a9f5-46f1-af3c-de2a373d4898"
      },
      "execution_count": 4,
      "outputs": [
        {
          "output_type": "stream",
          "name": "stdout",
          "text": [
            "El valor de β si p = 0.30 es: 0.9461\n"
          ]
        }
      ]
    }
  ]
}